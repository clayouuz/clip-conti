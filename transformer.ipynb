{
 "cells": [
  {
   "cell_type": "code",
   "execution_count": 34,
   "metadata": {},
   "outputs": [
    {
     "data": {
      "text/plain": [
       "CLIPModel(\n",
       "  (text_model): CLIPTextTransformer(\n",
       "    (embeddings): CLIPTextEmbeddings(\n",
       "      (token_embedding): Embedding(49408, 512)\n",
       "      (position_embedding): Embedding(77, 512)\n",
       "    )\n",
       "    (encoder): CLIPEncoder(\n",
       "      (layers): ModuleList(\n",
       "        (0-11): 12 x CLIPEncoderLayer(\n",
       "          (self_attn): CLIPSdpaAttention(\n",
       "            (k_proj): Linear(in_features=512, out_features=512, bias=True)\n",
       "            (v_proj): Linear(in_features=512, out_features=512, bias=True)\n",
       "            (q_proj): Linear(in_features=512, out_features=512, bias=True)\n",
       "            (out_proj): Linear(in_features=512, out_features=512, bias=True)\n",
       "          )\n",
       "          (layer_norm1): LayerNorm((512,), eps=1e-05, elementwise_affine=True)\n",
       "          (mlp): CLIPMLP(\n",
       "            (activation_fn): QuickGELUActivation()\n",
       "            (fc1): Linear(in_features=512, out_features=2048, bias=True)\n",
       "            (fc2): Linear(in_features=2048, out_features=512, bias=True)\n",
       "          )\n",
       "          (layer_norm2): LayerNorm((512,), eps=1e-05, elementwise_affine=True)\n",
       "        )\n",
       "      )\n",
       "    )\n",
       "    (final_layer_norm): LayerNorm((512,), eps=1e-05, elementwise_affine=True)\n",
       "  )\n",
       "  (vision_model): CLIPVisionTransformer(\n",
       "    (embeddings): CLIPVisionEmbeddings(\n",
       "      (patch_embedding): Conv2d(3, 768, kernel_size=(16, 16), stride=(16, 16), bias=False)\n",
       "      (position_embedding): Embedding(197, 768)\n",
       "    )\n",
       "    (pre_layrnorm): LayerNorm((768,), eps=1e-05, elementwise_affine=True)\n",
       "    (encoder): CLIPEncoder(\n",
       "      (layers): ModuleList(\n",
       "        (0-11): 12 x CLIPEncoderLayer(\n",
       "          (self_attn): CLIPSdpaAttention(\n",
       "            (k_proj): Linear(in_features=768, out_features=768, bias=True)\n",
       "            (v_proj): Linear(in_features=768, out_features=768, bias=True)\n",
       "            (q_proj): Linear(in_features=768, out_features=768, bias=True)\n",
       "            (out_proj): Linear(in_features=768, out_features=768, bias=True)\n",
       "          )\n",
       "          (layer_norm1): LayerNorm((768,), eps=1e-05, elementwise_affine=True)\n",
       "          (mlp): CLIPMLP(\n",
       "            (activation_fn): QuickGELUActivation()\n",
       "            (fc1): Linear(in_features=768, out_features=3072, bias=True)\n",
       "            (fc2): Linear(in_features=3072, out_features=768, bias=True)\n",
       "          )\n",
       "          (layer_norm2): LayerNorm((768,), eps=1e-05, elementwise_affine=True)\n",
       "        )\n",
       "      )\n",
       "    )\n",
       "    (post_layernorm): LayerNorm((768,), eps=1e-05, elementwise_affine=True)\n",
       "  )\n",
       "  (visual_projection): Linear(in_features=768, out_features=512, bias=False)\n",
       "  (text_projection): Linear(in_features=512, out_features=512, bias=False)\n",
       ")"
      ]
     },
     "execution_count": 34,
     "metadata": {},
     "output_type": "execute_result"
    }
   ],
   "source": [
    "# imprt the model\n",
    "from PIL import Image\n",
    "import torch\n",
    "model_name=\"openai/clip-vit-base-patch16\"\n",
    "from transformers import AutoProcessor, AutoModelForZeroShotImageClassification\n",
    "processor = AutoProcessor.from_pretrained(model_name)\n",
    "model = AutoModelForZeroShotImageClassification.from_pretrained(model_name)\n",
    "device = 'cuda' if torch.cuda.is_available() else 'cpu'\n",
    "model.to(device)\n",
    "model.eval()\n"
   ]
  },
  {
   "cell_type": "code",
   "execution_count": 46,
   "metadata": {},
   "outputs": [],
   "source": [
    "# load the data\n",
    "import torch\n",
    "import torchvision\n",
    "import torchvision.transforms as transforms\n",
    "from PIL import Image\n",
    "import torchvision.datasets as datasets\n",
    "# Download the dataset\n",
    "cifar100 = datasets.CIFAR100(root='../data', download=False, train=False)"
   ]
  },
  {
   "cell_type": "code",
   "execution_count": 47,
   "metadata": {},
   "outputs": [
    {
     "name": "stdout",
     "output_type": "stream",
     "text": [
      "10000\n"
     ]
    }
   ],
   "source": [
    "print(len(cifar100))"
   ]
  },
  {
   "cell_type": "code",
   "execution_count": 2,
   "metadata": {},
   "outputs": [
    {
     "ename": "NameError",
     "evalue": "name 'processor' is not defined",
     "output_type": "error",
     "traceback": [
      "\u001b[1;31m---------------------------------------------------------------------------\u001b[0m",
      "\u001b[1;31mNameError\u001b[0m                                 Traceback (most recent call last)",
      "Cell \u001b[1;32mIn[2], line 10\u001b[0m\n\u001b[0;32m      7\u001b[0m         output \u001b[38;5;241m=\u001b[39m output \u001b[38;5;241m/\u001b[39m output\u001b[38;5;241m.\u001b[39mnorm(dim\u001b[38;5;241m=\u001b[39m\u001b[38;5;241m-\u001b[39m\u001b[38;5;241m1\u001b[39m, keepdim\u001b[38;5;241m=\u001b[39m\u001b[38;5;28;01mTrue\u001b[39;00m)\n\u001b[0;32m      8\u001b[0m         \u001b[38;5;28;01mreturn\u001b[39;00m output\n\u001b[1;32m---> 10\u001b[0m text_features \u001b[38;5;241m=\u001b[39m \u001b[43mtokenize_text\u001b[49m\u001b[43m(\u001b[49m\u001b[43mcifar100\u001b[49m\u001b[38;5;241;43m.\u001b[39;49m\u001b[43mclasses\u001b[49m\u001b[43m)\u001b[49m\n\u001b[0;32m     11\u001b[0m text_features \u001b[38;5;241m/\u001b[39m\u001b[38;5;241m=\u001b[39m text_features\u001b[38;5;241m.\u001b[39mnorm(dim\u001b[38;5;241m=\u001b[39m\u001b[38;5;241m-\u001b[39m\u001b[38;5;241m1\u001b[39m, keepdim\u001b[38;5;241m=\u001b[39m\u001b[38;5;28;01mTrue\u001b[39;00m)\n\u001b[0;32m     12\u001b[0m \u001b[38;5;28;01mimport\u001b[39;00m \u001b[38;5;21;01mpickle\u001b[39;00m\n",
      "Cell \u001b[1;32mIn[2], line 4\u001b[0m, in \u001b[0;36mtokenize_text\u001b[1;34m(text)\u001b[0m\n\u001b[0;32m      2\u001b[0m \u001b[38;5;28;01mdef\u001b[39;00m \u001b[38;5;21mtokenize_text\u001b[39m(text):\n\u001b[0;32m      3\u001b[0m     \u001b[38;5;28;01mwith\u001b[39;00m torch\u001b[38;5;241m.\u001b[39mno_grad():\n\u001b[1;32m----> 4\u001b[0m         tensor \u001b[38;5;241m=\u001b[39m \u001b[43mprocessor\u001b[49m\u001b[38;5;241m.\u001b[39mtokenizer(text, return_tensors\u001b[38;5;241m=\u001b[39m\u001b[38;5;124m\"\u001b[39m\u001b[38;5;124mpt\u001b[39m\u001b[38;5;124m\"\u001b[39m, padding\u001b[38;5;241m=\u001b[39m\u001b[38;5;28;01mTrue\u001b[39;00m)\u001b[38;5;241m.\u001b[39minput_ids\n\u001b[0;32m      5\u001b[0m         proto \u001b[38;5;241m=\u001b[39m model\u001b[38;5;241m.\u001b[39mtext_model(tensor\u001b[38;5;241m.\u001b[39mto(device))\n\u001b[0;32m      6\u001b[0m         output \u001b[38;5;241m=\u001b[39m model\u001b[38;5;241m.\u001b[39mtext_projection(proto\u001b[38;5;241m.\u001b[39mpooler_output)\n",
      "\u001b[1;31mNameError\u001b[0m: name 'processor' is not defined"
     ]
    }
   ],
   "source": [
    "#text tokenization\n",
    "def tokenize_text(text):\n",
    "    with torch.no_grad():\n",
    "        tensor = processor.tokenizer(text, return_tensors=\"pt\", padding=True).input_ids\n",
    "        proto = model.text_model(tensor.to(device))\n",
    "        output = model.text_projection(proto.pooler_output)\n",
    "        output = output / output.norm(dim=-1, keepdim=True)\n",
    "        return output\n",
    "\n",
    "text_features = tokenize_text(cifar100.classes)\n",
    "text_features /= text_features.norm(dim=-1, keepdim=True)\n",
    "import pickle\n",
    "with open('text_features.pkl', 'wb') as f:\n",
    "    pickle.dump(text_features, f)"
   ]
  },
  {
   "cell_type": "code",
   "execution_count": 4,
   "metadata": {},
   "outputs": [],
   "source": [
    "import pickle\n",
    "\n",
    "with open('text_features.pkl', 'rb') as f:\n",
    "    text_features = pickle.load(f)"
   ]
  },
  {
   "cell_type": "code",
   "execution_count": 5,
   "metadata": {},
   "outputs": [],
   "source": [
    "#image tokenization and prediction\n",
    "def tokenize_image(image):\n",
    "    with torch.no_grad():\n",
    "        tensor = processor.image_processor(images=image, return_tensors=\"pt\").pixel_values\n",
    "        proto = model.vision_model(tensor.to(device))\n",
    "        output = model.visual_projection(proto.pooler_output)\n",
    "        output /= output.norm(dim=-1, keepdim=True)\n",
    "        return output\n",
    "\n",
    "def get_similarity(img_outputs, txt_outputs):\n",
    "    similarity = (100.0 * img_outputs @ txt_outputs.T).softmax(dim=-1)\n",
    "    return similarity\n",
    "\n",
    "def predict(data,existed_img_features=None):\n",
    "    image,label=data\n",
    "    if existed_img_features is not None:\n",
    "        img_outputs = existed_img_features\n",
    "    else:\n",
    "        img_outputs = tokenize_image(image)\n",
    "    txt_outputs = text_features\n",
    "    similarity = get_similarity(img_outputs, txt_outputs)\n",
    "    values, indices = similarity[0].topk(5)\n",
    "    return label==indices[0].item(),img_outputs.cpu()\n",
    "# answer,data=predict(cifar100[0])\n",
    "# print(answer,data.shape)"
   ]
  },
  {
   "cell_type": "code",
   "execution_count": null,
   "metadata": {},
   "outputs": [],
   "source": [
    "#tokenize and save ALL data,get the accuracy\n",
    "from tqdm import tqdm\n",
    "acc=0\n",
    "save_list=[]\n",
    "for i in tqdm(range(1000)):\n",
    "    prediction,data=predict(cifar100[i])\n",
    "    acc+=prediction\n",
    "    temp=[data,cifar100[i][1]]\n",
    "    save_list.append(temp)\n",
    "with open('save_list.pkl', 'wb') as f:\n",
    "    pickle.dump(save_list, f)\n",
    "print(acc/10)"
   ]
  },
  {
   "cell_type": "code",
   "execution_count": null,
   "metadata": {},
   "outputs": [],
   "source": [
    "predict(cifar100[0],save_list[0][0])[0]"
   ]
  },
  {
   "cell_type": "code",
   "execution_count": 1,
   "metadata": {},
   "outputs": [],
   "source": [
    "import pickle\n",
    "with open('mnist.pkl', 'rb') as f:\n",
    "    tensor_dataset = pickle.load(f)\n",
    "# train_size = int(0.8 * len(tensor_dataset))\n",
    "# test_size = len(tensor_dataset) - train_size\n",
    "with open('mnist_text.pkl', 'rb') as f:\n",
    "    text_features = pickle.load(f)"
   ]
  },
  {
   "cell_type": "code",
   "execution_count": 6,
   "metadata": {},
   "outputs": [],
   "source": [
    "import torch\n",
    "from torch.utils.data import DataLoader, random_split\n",
    "train_size = int(0.7 * len(tensor_dataset))\n",
    "test_size = len(tensor_dataset) - train_size\n",
    "torch.manual_seed(42)\n",
    "\n",
    "# for data in tensor_dataset:\n",
    "#     data[0]/=data[0].norm(dim=-1, keepdim=True)\n",
    "train_dataset, test_dataset = random_split(tensor_dataset, [train_size, test_size])"
   ]
  },
  {
   "cell_type": "code",
   "execution_count": 4,
   "metadata": {},
   "outputs": [
    {
     "ename": "NameError",
     "evalue": "name 'predict' is not defined",
     "output_type": "error",
     "traceback": [
      "\u001b[1;31m---------------------------------------------------------------------------\u001b[0m",
      "\u001b[1;31mNameError\u001b[0m                                 Traceback (most recent call last)",
      "Cell \u001b[1;32mIn[4], line 16\u001b[0m\n\u001b[0;32m     14\u001b[0m     accuracy\u001b[38;5;241m=\u001b[39macc\u001b[38;5;241m/\u001b[39m\u001b[38;5;28mlen\u001b[39m(test_dataset)\n\u001b[0;32m     15\u001b[0m     \u001b[38;5;28;01mreturn\u001b[39;00m accuracy\n\u001b[1;32m---> 16\u001b[0m \u001b[43mfun1\u001b[49m\u001b[43m(\u001b[49m\u001b[38;5;241;43m0.7\u001b[39;49m\u001b[43m)\u001b[49m\n",
      "Cell \u001b[1;32mIn[4], line 11\u001b[0m, in \u001b[0;36mfun1\u001b[1;34m(sample_size)\u001b[0m\n\u001b[0;32m      9\u001b[0m acc\u001b[38;5;241m=\u001b[39m\u001b[38;5;241m0\u001b[39m\n\u001b[0;32m     10\u001b[0m \u001b[38;5;28;01mfor\u001b[39;00m i \u001b[38;5;129;01min\u001b[39;00m \u001b[38;5;28mrange\u001b[39m(\u001b[38;5;28mlen\u001b[39m(test_dataset)):\n\u001b[1;32m---> 11\u001b[0m     pdt,_\u001b[38;5;241m=\u001b[39m\u001b[43mpredict\u001b[49m(test_dataset[i],test_dataset[i][\u001b[38;5;241m0\u001b[39m])\n\u001b[0;32m     12\u001b[0m     acc\u001b[38;5;241m+\u001b[39m\u001b[38;5;241m=\u001b[39mpdt\n\u001b[0;32m     13\u001b[0m \u001b[38;5;66;03m# print(acc/len(tensor_dataset))\u001b[39;00m\n",
      "\u001b[1;31mNameError\u001b[0m: name 'predict' is not defined"
     ]
    }
   ],
   "source": [
    "#直接使用tensor进行测试\n",
    "import tqdm\n",
    "import torch\n",
    "\n",
    "def fun1(sample_size):\n",
    "    train_size = int(sample_size * len(tensor_dataset))\n",
    "    test_size = len(tensor_dataset) - train_size\n",
    "    train_dataset, test_dataset = random_split(tensor_dataset, [train_size, test_size])\n",
    "    acc=0\n",
    "    for i in range(len(test_dataset)):\n",
    "        pdt,_=predict(test_dataset[i],test_dataset[i][0])\n",
    "        acc+=pdt\n",
    "    # print(acc/len(tensor_dataset))\n",
    "    accuracy=acc/len(test_dataset)\n",
    "    return accuracy\n",
    "fun1(0.7)"
   ]
  },
  {
   "cell_type": "code",
   "execution_count": 7,
   "metadata": {},
   "outputs": [
    {
     "data": {
      "text/plain": [
       "0.92"
      ]
     },
     "execution_count": 7,
     "metadata": {},
     "output_type": "execute_result"
    }
   ],
   "source": [
    "#knn\n",
    "import torch\n",
    "from sklearn.neighbors import KNeighborsClassifier\n",
    "def fun2(sample_size):\n",
    "    train_size = int(sample_size * len(tensor_dataset))\n",
    "    test_size = len(tensor_dataset) - train_size\n",
    "    train_dataset, test_dataset = random_split(tensor_dataset, [train_size, test_size])\n",
    "    # 提取训练集特征和标签\n",
    "    train_features = [data[0].numpy().flatten() for data in train_dataset]\n",
    "    train_labels = [data[1] for data in train_dataset]\n",
    "\n",
    "    # 创建 KNN 分类器\n",
    "    knn = KNeighborsClassifier(n_neighbors=5,weights='distance')\n",
    "\n",
    "    # 训练分类器\n",
    "    knn.fit(train_features, train_labels)\n",
    "\n",
    "    # 提取测试集特征\n",
    "\n",
    "    test_features = [data[0].numpy().flatten() for data in test_dataset]\n",
    "    test_labels = [data[1] for data in test_dataset]\n",
    "\n",
    "    # 进行预测\n",
    "    predictions = knn.predict(test_features)\n",
    "\n",
    "    correct_predictions = 0\n",
    "    for true_label, predicted_label in zip(test_labels, predictions):\n",
    "        if true_label == predicted_label:\n",
    "            correct_predictions += 1\n",
    "\n",
    "    accuracy = correct_predictions / len(test_labels)\n",
    "    # print(f\"准确率为：{accuracy}\")\n",
    "    return accuracy\n",
    "fun2(0.7)"
   ]
  },
  {
   "cell_type": "code",
   "execution_count": 10,
   "metadata": {},
   "outputs": [
    {
     "data": {
      "image/png": "[encoded data removed]",
      "text/plain": [
       "<Figure size 640x480 with 1 Axes>"
      ]
     },
     "metadata": {},
     "output_type": "display_data"
    }
   ],
   "source": [
    "import matplotlib.pyplot as plt\n",
    "import numpy as np\n",
    "\n",
    "# 定义样本量范围\n",
    "sample_sizes = np.linspace(0.01, 0.8, 9)\n",
    "\n",
    "# 计算fun1和fun2在不同样本量下的准确率\n",
    "accuracies_fun1 = [fun1(sample_size) for sample_size in sample_sizes]\n",
    "accuracies_fun2 = [fun2(sample_size) for sample_size in sample_sizes]\n",
    "\n",
    "# 绘制折线图\n",
    "plt.plot(sample_sizes*10000, accuracies_fun1, label='zero-shot', marker='o')\n",
    "plt.plot(sample_sizes*10000, accuracies_fun2, label='knn classifier', marker='o')\n",
    "\n",
    "# 添加标题和坐标轴标签\n",
    "plt.title('Accuracy on MNIST')\n",
    "plt.xlabel('Sample Size')\n",
    "plt.ylabel('Accuracy')\n",
    "plt.grid(True)\n",
    "# 添加图例\n",
    "plt.legend()\n",
    "\n",
    "# 显示图形\n",
    "plt.show()"
   ]
  },
  {
   "cell_type": "code",
   "execution_count": 43,
   "metadata": {},
   "outputs": [
    {
     "name": "stdout",
     "output_type": "stream",
     "text": [
      "10000\n"
     ]
    }
   ],
   "source": [
    "print(len(tensor_dataset))"
   ]
  }
 ],
 "metadata": {
  "kernelspec": {
   "display_name": "base",
   "language": "python",
   "name": "python3"
  },
  "language_info": {
   "codemirror_mode": {
    "name": "ipython",
    "version": 3
   },
   "file_extension": ".py",
   "mimetype": "text/x-python",
   "name": "python",
   "nbconvert_exporter": "python",
   "pygments_lexer": "ipython3",
   "version": "3.12.3"
  }
 },
 "nbformat": 4,
 "nbformat_minor": 2
}
